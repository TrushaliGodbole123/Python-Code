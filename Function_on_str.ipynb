{
 "cells": [
  {
   "cell_type": "markdown",
   "id": "43a23ba7",
   "metadata": {},
   "source": [
    "# important topic"
   ]
  },
  {
   "cell_type": "markdown",
   "id": "96faf7e8",
   "metadata": {},
   "source": [
    "# common Functions"
   ]
  },
  {
   "cell_type": "code",
   "execution_count": 1,
   "id": "09e1d46d",
   "metadata": {},
   "outputs": [],
   "source": [
    "#len,max,min,sorted"
   ]
  },
  {
   "cell_type": "code",
   "execution_count": 3,
   "id": "01588c42",
   "metadata": {},
   "outputs": [
    {
     "data": {
      "text/plain": [
       "12"
      ]
     },
     "execution_count": 3,
     "metadata": {},
     "output_type": "execute_result"
    }
   ],
   "source": [
    "#len\n",
    "len('hello world!')"
   ]
  },
  {
   "cell_type": "code",
   "execution_count": 4,
   "id": "ab93495a",
   "metadata": {},
   "outputs": [
    {
     "data": {
      "text/plain": [
       "'w'"
      ]
     },
     "execution_count": 4,
     "metadata": {},
     "output_type": "execute_result"
    }
   ],
   "source": [
    "#max\n",
    "max('hello world')"
   ]
  },
  {
   "cell_type": "code",
   "execution_count": 5,
   "id": "9c8f7c89",
   "metadata": {},
   "outputs": [
    {
     "data": {
      "text/plain": [
       "' '"
      ]
     },
     "execution_count": 5,
     "metadata": {},
     "output_type": "execute_result"
    }
   ],
   "source": [
    "#min\n",
    "min('hello world')"
   ]
  },
  {
   "cell_type": "code",
   "execution_count": 6,
   "id": "899b128f",
   "metadata": {},
   "outputs": [
    {
     "data": {
      "text/plain": [
       "[' ', 'd', 'e', 'h', 'l', 'l', 'l', 'o', 'o', 'r', 'w']"
      ]
     },
     "execution_count": 6,
     "metadata": {},
     "output_type": "execute_result"
    }
   ],
   "source": [
    "sorted('hello world')"
   ]
  },
  {
   "cell_type": "code",
   "execution_count": 7,
   "id": "990fd0de",
   "metadata": {},
   "outputs": [
    {
     "data": {
      "text/plain": [
       "['w', 'r', 'o', 'o', 'l', 'l', 'l', 'h', 'e', 'd', ' ']"
      ]
     },
     "execution_count": 7,
     "metadata": {},
     "output_type": "execute_result"
    }
   ],
   "source": [
    "sorted('hello world',reverse=True)"
   ]
  },
  {
   "cell_type": "markdown",
   "id": "5d2708e1",
   "metadata": {},
   "source": [
    "# some function which works only on str"
   ]
  },
  {
   "cell_type": "code",
   "execution_count": null,
   "id": "676e9c78",
   "metadata": {},
   "outputs": [],
   "source": [
    "#capitalize , title, upper , lower , swapcase"
   ]
  },
  {
   "cell_type": "code",
   "execution_count": 9,
   "id": "28ceddb7",
   "metadata": {},
   "outputs": [
    {
     "data": {
      "text/plain": [
       "'Hello world'"
      ]
     },
     "execution_count": 9,
     "metadata": {},
     "output_type": "execute_result"
    }
   ],
   "source": [
    "s = 'hello world'\n",
    "s.capitalize()"
   ]
  },
  {
   "cell_type": "code",
   "execution_count": 10,
   "id": "19a37d76",
   "metadata": {},
   "outputs": [
    {
     "data": {
      "text/plain": [
       "'Hello World'"
      ]
     },
     "execution_count": 10,
     "metadata": {},
     "output_type": "execute_result"
    }
   ],
   "source": [
    "s.title() #1st letter capital"
   ]
  },
  {
   "cell_type": "code",
   "execution_count": 11,
   "id": "51785bec",
   "metadata": {},
   "outputs": [
    {
     "data": {
      "text/plain": [
       "'HELLO WORLD'"
      ]
     },
     "execution_count": 11,
     "metadata": {},
     "output_type": "execute_result"
    }
   ],
   "source": [
    "s.upper()"
   ]
  },
  {
   "cell_type": "code",
   "execution_count": 12,
   "id": "90533fd7",
   "metadata": {},
   "outputs": [
    {
     "data": {
      "text/plain": [
       "'hello world'"
      ]
     },
     "execution_count": 12,
     "metadata": {},
     "output_type": "execute_result"
    }
   ],
   "source": [
    "s.lower()"
   ]
  },
  {
   "cell_type": "code",
   "execution_count": 15,
   "id": "c90d0a2a",
   "metadata": {},
   "outputs": [
    {
     "data": {
      "text/plain": [
       "'HEllO'"
      ]
     },
     "execution_count": 15,
     "metadata": {},
     "output_type": "execute_result"
    }
   ],
   "source": [
    "'heLLo'.swapcase()  #capital ko lower and lower ko upper"
   ]
  },
  {
   "cell_type": "markdown",
   "id": "542e064a",
   "metadata": {},
   "source": [
    "# count,Find,Index"
   ]
  },
  {
   "cell_type": "code",
   "execution_count": 16,
   "id": "27d8c2a6",
   "metadata": {},
   "outputs": [
    {
     "data": {
      "text/plain": [
       "2"
      ]
     },
     "execution_count": 16,
     "metadata": {},
     "output_type": "execute_result"
    }
   ],
   "source": [
    "'my name is trushali'.count('a')"
   ]
  },
  {
   "cell_type": "code",
   "execution_count": 22,
   "id": "beae224b",
   "metadata": {},
   "outputs": [
    {
     "data": {
      "text/plain": [
       "8"
      ]
     },
     "execution_count": 22,
     "metadata": {},
     "output_type": "execute_result"
    }
   ],
   "source": [
    "'my name is trushali'.find('is') #position"
   ]
  },
  {
   "cell_type": "code",
   "execution_count": 24,
   "id": "c15c5f47",
   "metadata": {},
   "outputs": [
    {
     "data": {
      "text/plain": [
       "-1"
      ]
     },
     "execution_count": 24,
     "metadata": {},
     "output_type": "execute_result"
    }
   ],
   "source": [
    "'my name is trushali'.find('are') #it gives -1 if not present"
   ]
  },
  {
   "cell_type": "code",
   "execution_count": 25,
   "id": "0b5ae99b",
   "metadata": {},
   "outputs": [
    {
     "data": {
      "text/plain": [
       "4"
      ]
     },
     "execution_count": 25,
     "metadata": {},
     "output_type": "execute_result"
    }
   ],
   "source": [
    "'my name is trushali'.index('a')"
   ]
  },
  {
   "cell_type": "code",
   "execution_count": 26,
   "id": "420a7c07",
   "metadata": {},
   "outputs": [
    {
     "ename": "ValueError",
     "evalue": "substring not found",
     "output_type": "error",
     "traceback": [
      "\u001b[1;31m---------------------------------------------------------------------------\u001b[0m",
      "\u001b[1;31mValueError\u001b[0m                                Traceback (most recent call last)",
      "Cell \u001b[1;32mIn[26], line 1\u001b[0m\n\u001b[1;32m----> 1\u001b[0m \u001b[38;5;124;43m'\u001b[39;49m\u001b[38;5;124;43mmy name is trushali\u001b[39;49m\u001b[38;5;124;43m'\u001b[39;49m\u001b[38;5;241;43m.\u001b[39;49m\u001b[43mindex\u001b[49m\u001b[43m(\u001b[49m\u001b[38;5;124;43m'\u001b[39;49m\u001b[38;5;124;43mare\u001b[39;49m\u001b[38;5;124;43m'\u001b[39;49m\u001b[43m)\u001b[49m\n",
      "\u001b[1;31mValueError\u001b[0m: substring not found"
     ]
    }
   ],
   "source": [
    "'my name is trushali'.index('are') #it gives error"
   ]
  },
  {
   "cell_type": "markdown",
   "id": "376829fc",
   "metadata": {},
   "source": [
    "# endswith/startwith"
   ]
  },
  {
   "cell_type": "code",
   "execution_count": 27,
   "id": "3899b3b7",
   "metadata": {},
   "outputs": [
    {
     "data": {
      "text/plain": [
       "True"
      ]
     },
     "execution_count": 27,
     "metadata": {},
     "output_type": "execute_result"
    }
   ],
   "source": [
    "'my name is trushali'.endswith('li')"
   ]
  },
  {
   "cell_type": "code",
   "execution_count": 28,
   "id": "8bde69ee",
   "metadata": {},
   "outputs": [
    {
     "data": {
      "text/plain": [
       "False"
      ]
     },
     "execution_count": 28,
     "metadata": {},
     "output_type": "execute_result"
    }
   ],
   "source": [
    "'my name is trushali'.endswith('Li')"
   ]
  },
  {
   "cell_type": "code",
   "execution_count": 30,
   "id": "8de7522c",
   "metadata": {},
   "outputs": [
    {
     "data": {
      "text/plain": [
       "False"
      ]
     },
     "execution_count": 30,
     "metadata": {},
     "output_type": "execute_result"
    }
   ],
   "source": [
    "'my name is trushali'.startswith('li')"
   ]
  },
  {
   "cell_type": "code",
   "execution_count": 31,
   "id": "034d1cc7",
   "metadata": {},
   "outputs": [
    {
     "data": {
      "text/plain": [
       "True"
      ]
     },
     "execution_count": 31,
     "metadata": {},
     "output_type": "execute_result"
    }
   ],
   "source": [
    "'my name is trushali'.startswith('my')"
   ]
  },
  {
   "cell_type": "markdown",
   "id": "a0027580",
   "metadata": {},
   "source": [
    "# format"
   ]
  },
  {
   "cell_type": "code",
   "execution_count": 33,
   "id": "fb53c263",
   "metadata": {},
   "outputs": [
    {
     "data": {
      "text/plain": [
       "'hi my name is trushali and i am a female'"
      ]
     },
     "execution_count": 33,
     "metadata": {},
     "output_type": "execute_result"
    }
   ],
   "source": [
    "name='trushali'\n",
    "gender = 'female'\n",
    "'hi my name is {} and i am a {}'.format(name,gender)"
   ]
  },
  {
   "cell_type": "markdown",
   "id": "3b71c281",
   "metadata": {},
   "source": [
    "# isalnum/isalpha/isdigit/isidentifier"
   ]
  },
  {
   "cell_type": "code",
   "execution_count": 37,
   "id": "cb4bdff7",
   "metadata": {},
   "outputs": [],
   "source": [
    "# alnum check is alphanumeric or not "
   ]
  },
  {
   "cell_type": "code",
   "execution_count": 38,
   "id": "7bb89607",
   "metadata": {},
   "outputs": [
    {
     "data": {
      "text/plain": [
       "True"
      ]
     },
     "execution_count": 38,
     "metadata": {},
     "output_type": "execute_result"
    }
   ],
   "source": [
    "'trushu1234'.isalnum()"
   ]
  },
  {
   "cell_type": "code",
   "execution_count": 39,
   "id": "94084e25",
   "metadata": {},
   "outputs": [
    {
     "data": {
      "text/plain": [
       "True"
      ]
     },
     "execution_count": 39,
     "metadata": {},
     "output_type": "execute_result"
    }
   ],
   "source": [
    "'trushu'.isalnum()"
   ]
  },
  {
   "cell_type": "code",
   "execution_count": 40,
   "id": "296c1080",
   "metadata": {},
   "outputs": [
    {
     "data": {
      "text/plain": [
       "False"
      ]
     },
     "execution_count": 40,
     "metadata": {},
     "output_type": "execute_result"
    }
   ],
   "source": [
    "'trushu1234'.isalpha()"
   ]
  },
  {
   "cell_type": "code",
   "execution_count": 41,
   "id": "01b68e41",
   "metadata": {},
   "outputs": [
    {
     "data": {
      "text/plain": [
       "True"
      ]
     },
     "execution_count": 41,
     "metadata": {},
     "output_type": "execute_result"
    }
   ],
   "source": [
    "'trushu'.isalpha()"
   ]
  },
  {
   "cell_type": "code",
   "execution_count": 43,
   "id": "35223100",
   "metadata": {},
   "outputs": [
    {
     "data": {
      "text/plain": [
       "True"
      ]
     },
     "execution_count": 43,
     "metadata": {},
     "output_type": "execute_result"
    }
   ],
   "source": [
    "'1234'.isdigit()"
   ]
  },
  {
   "cell_type": "code",
   "execution_count": 44,
   "id": "217bb887",
   "metadata": {},
   "outputs": [
    {
     "data": {
      "text/plain": [
       "False"
      ]
     },
     "execution_count": 44,
     "metadata": {},
     "output_type": "execute_result"
    }
   ],
   "source": [
    "'trushu1234'.isdigit()"
   ]
  },
  {
   "cell_type": "code",
   "execution_count": 46,
   "id": "b4962cea",
   "metadata": {},
   "outputs": [
    {
     "data": {
      "text/plain": [
       "False"
      ]
     },
     "execution_count": 46,
     "metadata": {},
     "output_type": "execute_result"
    }
   ],
   "source": [
    "'1name'.isidentifier()"
   ]
  },
  {
   "cell_type": "code",
   "execution_count": 47,
   "id": "d89be653",
   "metadata": {},
   "outputs": [
    {
     "data": {
      "text/plain": [
       "True"
      ]
     },
     "execution_count": 47,
     "metadata": {},
     "output_type": "execute_result"
    }
   ],
   "source": [
    "'name1'.isidentifier()"
   ]
  },
  {
   "cell_type": "code",
   "execution_count": 48,
   "id": "52d26f58",
   "metadata": {},
   "outputs": [
    {
     "data": {
      "text/plain": [
       "True"
      ]
     },
     "execution_count": 48,
     "metadata": {},
     "output_type": "execute_result"
    }
   ],
   "source": [
    "'first_name'.isidentifier()"
   ]
  },
  {
   "cell_type": "markdown",
   "id": "68234250",
   "metadata": {},
   "source": [
    "# split/join"
   ]
  },
  {
   "cell_type": "code",
   "execution_count": 49,
   "id": "7493f36b",
   "metadata": {},
   "outputs": [
    {
     "data": {
      "text/plain": [
       "['hi my name ', ' trushu']"
      ]
     },
     "execution_count": 49,
     "metadata": {},
     "output_type": "execute_result"
    }
   ],
   "source": [
    "'hi my name is trushu'.split('is')"
   ]
  },
  {
   "cell_type": "code",
   "execution_count": 50,
   "id": "0fc0c306",
   "metadata": {},
   "outputs": [
    {
     "data": {
      "text/plain": [
       "'ihi my name is trushus'"
      ]
     },
     "execution_count": 50,
     "metadata": {},
     "output_type": "execute_result"
    }
   ],
   "source": [
    "'hi my name is trushu'.join('is')"
   ]
  },
  {
   "cell_type": "code",
   "execution_count": 55,
   "id": "151686a6",
   "metadata": {},
   "outputs": [
    {
     "data": {
      "text/plain": [
       "'hi_my_name_is_trushu'"
      ]
     },
     "execution_count": 55,
     "metadata": {},
     "output_type": "execute_result"
    }
   ],
   "source": [
    "'_'.join(['hi','my','name','is','trushu'])"
   ]
  },
  {
   "cell_type": "markdown",
   "id": "c23bb0e8",
   "metadata": {},
   "source": [
    "# Replace"
   ]
  },
  {
   "cell_type": "code",
   "execution_count": 58,
   "id": "2cbadda3",
   "metadata": {},
   "outputs": [
    {
     "data": {
      "text/plain": [
       "'hi my name is godbole'"
      ]
     },
     "execution_count": 58,
     "metadata": {},
     "output_type": "execute_result"
    }
   ],
   "source": [
    "'hi my name is trushu'.replace('trushu','godbole')"
   ]
  },
  {
   "cell_type": "markdown",
   "id": "34cb5340",
   "metadata": {},
   "source": [
    "# strip"
   ]
  },
  {
   "cell_type": "code",
   "execution_count": 59,
   "id": "98184a6f",
   "metadata": {},
   "outputs": [
    {
     "data": {
      "text/plain": [
       "'trushu'"
      ]
     },
     "execution_count": 59,
     "metadata": {},
     "output_type": "execute_result"
    }
   ],
   "source": [
    "'trushu          '.strip()"
   ]
  },
  {
   "cell_type": "code",
   "execution_count": 63,
   "id": "b31ae97c",
   "metadata": {},
   "outputs": [
    {
     "data": {
      "text/plain": [
       "'trushu'"
      ]
     },
     "execution_count": 63,
     "metadata": {},
     "output_type": "execute_result"
    }
   ],
   "source": [
    "'trushu'.strip()"
   ]
  },
  {
   "cell_type": "code",
   "execution_count": null,
   "id": "df1e508d",
   "metadata": {},
   "outputs": [],
   "source": []
  }
 ],
 "metadata": {
  "kernelspec": {
   "display_name": "Python 3 (ipykernel)",
   "language": "python",
   "name": "python3"
  },
  "language_info": {
   "codemirror_mode": {
    "name": "ipython",
    "version": 3
   },
   "file_extension": ".py",
   "mimetype": "text/x-python",
   "name": "python",
   "nbconvert_exporter": "python",
   "pygments_lexer": "ipython3",
   "version": "3.10.9"
  }
 },
 "nbformat": 4,
 "nbformat_minor": 5
}
