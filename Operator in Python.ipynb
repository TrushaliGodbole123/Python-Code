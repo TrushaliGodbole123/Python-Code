{
 "cells": [
  {
   "cell_type": "markdown",
   "id": "8b85faba",
   "metadata": {},
   "source": [
    "# Operator In Python"
   ]
  },
  {
   "cell_type": "code",
   "execution_count": 7,
   "id": "1b88fdc5",
   "metadata": {},
   "outputs": [
    {
     "name": "stdout",
     "output_type": "stream",
     "text": [
      "30\n",
      "10\n",
      "200\n",
      "0.5\n",
      "0\n",
      "10\n",
      "4\n"
     ]
    }
   ],
   "source": [
    "#Operator in Python \n",
    "#Arithmatic OPerator :- + - * / \n",
    "\n",
    "a=10\n",
    "b=20\n",
    "print(a+b)\n",
    "print(b-a)\n",
    "print(a*b)\n",
    "print(a/b)\n",
    "print(a//b)# integer division\n",
    "print(a%b)\n",
    "print(2**2)"
   ]
  },
  {
   "cell_type": "code",
   "execution_count": 9,
   "id": "85c52ca1",
   "metadata": {},
   "outputs": [
    {
     "name": "stdout",
     "output_type": "stream",
     "text": [
      "False\n",
      "True\n",
      "False\n",
      "True\n",
      "False\n",
      "True\n"
     ]
    }
   ],
   "source": [
    "# Relational Operator < > <= >= == =!\n",
    "a=4\n",
    "b=5\n",
    "print(a>b)\n",
    "print(a<b)\n",
    "print(a>=b)\n",
    "print(a<=b)\n",
    "print(a==b)\n",
    "print(a!=b)"
   ]
  },
  {
   "cell_type": "markdown",
   "id": "8600a553",
   "metadata": {},
   "source": [
    "# Logical Operator\n",
    "# and operator"
   ]
  },
  {
   "cell_type": "code",
   "execution_count": 10,
   "id": "2989b6be",
   "metadata": {},
   "outputs": [
    {
     "name": "stdout",
     "output_type": "stream",
     "text": [
      "0\n",
      "1\n"
     ]
    }
   ],
   "source": [
    "print (1 and 0) \n",
    "print (1 and 1)"
   ]
  },
  {
   "cell_type": "markdown",
   "id": "6c84bf40",
   "metadata": {},
   "source": [
    "# OR operator"
   ]
  },
  {
   "cell_type": "code",
   "execution_count": 11,
   "id": "1874c14d",
   "metadata": {},
   "outputs": [
    {
     "name": "stdout",
     "output_type": "stream",
     "text": [
      "1\n",
      "1\n",
      "0\n"
     ]
    }
   ],
   "source": [
    "print(1 or 1)\n",
    "print(1 or 0)\n",
    "print(0 or 0)"
   ]
  },
  {
   "cell_type": "markdown",
   "id": "636a46f7",
   "metadata": {},
   "source": [
    "# NOT Operator"
   ]
  },
  {
   "cell_type": "code",
   "execution_count": 13,
   "id": "605b45b8",
   "metadata": {},
   "outputs": [
    {
     "name": "stdout",
     "output_type": "stream",
     "text": [
      "False\n",
      "True\n"
     ]
    }
   ],
   "source": [
    "print(not 1)\n",
    "print(not 0)"
   ]
  },
  {
   "cell_type": "markdown",
   "id": "670f16c5",
   "metadata": {},
   "source": [
    "# Bitwise Operator"
   ]
  },
  {
   "cell_type": "code",
   "execution_count": 14,
   "id": "280321a2",
   "metadata": {},
   "outputs": [
    {
     "name": "stdout",
     "output_type": "stream",
     "text": [
      "2\n"
     ]
    }
   ],
   "source": [
    "#bitwise and operator  010\n",
    "print (2&3)           # 110 :-> 010      binary add is done"
   ]
  },
  {
   "cell_type": "code",
   "execution_count": 15,
   "id": "9afecd95",
   "metadata": {},
   "outputs": [
    {
     "name": "stdout",
     "output_type": "stream",
     "text": [
      "3\n"
     ]
    }
   ],
   "source": [
    "#bitwise or operator   binart or is done\n",
    "print (2|3)"
   ]
  },
  {
   "cell_type": "code",
   "execution_count": 16,
   "id": "c49a0a5c",
   "metadata": {},
   "outputs": [
    {
     "name": "stdout",
     "output_type": "stream",
     "text": [
      "1\n"
     ]
    }
   ],
   "source": [
    "#bitwise Xor   same will be 0  different is 1 \n",
    "print(2^3)"
   ]
  },
  {
   "cell_type": "code",
   "execution_count": 17,
   "id": "fb85fba3",
   "metadata": {},
   "outputs": [
    {
     "name": "stdout",
     "output_type": "stream",
     "text": [
      "-4\n",
      "-2\n"
     ]
    }
   ],
   "source": [
    "#bitwise not \n",
    "print(~3)\n",
    "print(~1)"
   ]
  },
  {
   "cell_type": "code",
   "execution_count": 19,
   "id": "e59abfd1",
   "metadata": {},
   "outputs": [
    {
     "name": "stdout",
     "output_type": "stream",
     "text": [
      "1\n",
      "20\n"
     ]
    }
   ],
   "source": [
    "#bitwise left operator\n",
    "#bitwise right operator\n",
    "print(4>>2)\n",
    "print(5<<2)"
   ]
  },
  {
   "cell_type": "markdown",
   "id": "a0fdc35a",
   "metadata": {},
   "source": [
    "# Assignment OPerator"
   ]
  },
  {
   "cell_type": "code",
   "execution_count": 22,
   "id": "ac2f5956",
   "metadata": {},
   "outputs": [
    {
     "name": "stdout",
     "output_type": "stream",
     "text": [
      "4\n",
      "0\n"
     ]
    }
   ],
   "source": [
    "a=2\n",
    "a+=2  #a=a+2\n",
    "print(a)\n",
    "a%=2\n",
    "print(a)"
   ]
  },
  {
   "cell_type": "markdown",
   "id": "f2fa24d3",
   "metadata": {},
   "source": [
    "# membership operator"
   ]
  },
  {
   "cell_type": "markdown",
   "id": "2268706a",
   "metadata": {},
   "source": [
    "# in/not in"
   ]
  },
  {
   "cell_type": "code",
   "execution_count": 24,
   "id": "228232c3",
   "metadata": {},
   "outputs": [
    {
     "name": "stdout",
     "output_type": "stream",
     "text": [
      "True\n"
     ]
    }
   ],
   "source": [
    "print('t'in 'trushali')"
   ]
  },
  {
   "cell_type": "code",
   "execution_count": 25,
   "id": "f55968a9",
   "metadata": {},
   "outputs": [
    {
     "name": "stdout",
     "output_type": "stream",
     "text": [
      "False\n"
     ]
    }
   ],
   "source": [
    "print('t'in 'Trushali')"
   ]
  },
  {
   "cell_type": "code",
   "execution_count": 26,
   "id": "f79d4473",
   "metadata": {},
   "outputs": [
    {
     "name": "stdout",
     "output_type": "stream",
     "text": [
      "False\n"
     ]
    }
   ],
   "source": [
    "print('t'not in 'trushali')"
   ]
  },
  {
   "cell_type": "code",
   "execution_count": 27,
   "id": "89361b39",
   "metadata": {},
   "outputs": [
    {
     "name": "stdout",
     "output_type": "stream",
     "text": [
      "True\n"
     ]
    }
   ],
   "source": [
    "print('t'not in 'Trushali')"
   ]
  },
  {
   "cell_type": "code",
   "execution_count": 42,
   "id": "31ecd534",
   "metadata": {},
   "outputs": [
    {
     "name": "stdout",
     "output_type": "stream",
     "text": [
      "Enter a 3 digit number789\n",
      "9 8 7\n",
      "24\n"
     ]
    }
   ],
   "source": [
    "#program - find the sum of a 3 digit number entered by the user\n",
    "number = int(input('Enter a 3 digit number'))\n",
    "#345 % 10= 5\n",
    "a = int(number%10)\n",
    "number = number//10\n",
    "b = int(number%10)\n",
    "number = number//10\n",
    "c = int(number%10)\n",
    "number = number//10\n",
    "print(a,b,c)\n",
    "print(a+b+c)\n"
   ]
  },
  {
   "cell_type": "code",
   "execution_count": null,
   "id": "667921cf",
   "metadata": {},
   "outputs": [],
   "source": []
  }
 ],
 "metadata": {
  "kernelspec": {
   "display_name": "Python 3 (ipykernel)",
   "language": "python",
   "name": "python3"
  },
  "language_info": {
   "codemirror_mode": {
    "name": "ipython",
    "version": 3
   },
   "file_extension": ".py",
   "mimetype": "text/x-python",
   "name": "python",
   "nbconvert_exporter": "python",
   "pygments_lexer": "ipython3",
   "version": "3.10.9"
  }
 },
 "nbformat": 4,
 "nbformat_minor": 5
}
