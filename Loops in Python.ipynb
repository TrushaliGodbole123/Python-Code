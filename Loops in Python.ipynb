{
 "cells": [
  {
   "cell_type": "markdown",
   "id": "ae88c9ad",
   "metadata": {},
   "source": [
    "# Loops in python"
   ]
  },
  {
   "cell_type": "code",
   "execution_count": 1,
   "id": "ec514c0b",
   "metadata": {},
   "outputs": [],
   "source": [
    "#Need for loops\n",
    "#while Loop\n",
    "#For Loop\n",
    "#loop is used in software"
   ]
  },
  {
   "cell_type": "code",
   "execution_count": 2,
   "id": "3b38ca7f",
   "metadata": {},
   "outputs": [
    {
     "name": "stdout",
     "output_type": "stream",
     "text": [
      "enter the Number5\n",
      "5\n",
      "10\n",
      "15\n",
      "20\n",
      "25\n",
      "30\n",
      "35\n",
      "40\n",
      "45\n",
      "50\n"
     ]
    }
   ],
   "source": [
    "#write code to print a table\n",
    "number = int(input('enter the Number'))\n",
    "i=1\n",
    "while i<11:\n",
    "    print(number*i)\n",
    "    i+=1"
   ]
  },
  {
   "cell_type": "code",
   "execution_count": null,
   "id": "34e6dad3",
   "metadata": {},
   "outputs": [
    {
     "name": "stdout",
     "output_type": "stream",
     "text": [
      "1\n",
      "2\n",
      "3\n",
      "4\n",
      "5\n",
      "6\n",
      "7\n",
      "8\n",
      "9\n",
      "10\n",
      "11\n",
      "12\n",
      "13\n",
      "14\n",
      "15\n",
      "16\n",
      "17\n",
      "18\n",
      "19\n",
      "20\n",
      "21\n",
      "limit crossed\n"
     ]
    }
   ],
   "source": [
    "#while loop with else \n",
    "x=1\n",
    "while x<22:\n",
    "    print(x)\n",
    "    x+=1\n",
    "else:\n",
    "    print('limit crossed')"
   ]
  },
  {
   "cell_type": "code",
   "execution_count": null,
   "id": "fc39172e",
   "metadata": {},
   "outputs": [],
   "source": [
    "#guessing game \n",
    "#generate a random integer between 1 and 100\n",
    "import random\n",
    "jackpot = random.randint(1,100)\n",
    "guess = int(input('guesss karo'))\n",
    "# while guess !=jackpot:\n",
    "    if guess > jackpot:\n",
    "        print('wrong! Guess smaller')\n",
    "    else:\n",
    "        print('wrong! guess Greater')\n",
    "    guess = int(input('guesss karo'))\n",
    "else:\n",
    "    print('correct guess')"
   ]
  },
  {
   "cell_type": "code",
   "execution_count": 1,
   "id": "0b713931",
   "metadata": {},
   "outputs": [
    {
     "name": "stdout",
     "output_type": "stream",
     "text": [
      "guesss karo40\n",
      "wrong! guess lower\n",
      "guesss karo20\n",
      "wrong! guess lower\n",
      "guesss karo15\n",
      "wrong! guess lower\n",
      "guesss karo5\n",
      "correct guess\n",
      "attempts 4\n"
     ]
    }
   ],
   "source": [
    "import random\n",
    "jackpot = random.randint(1,100)\n",
    "guess = int(input('guesss karo'))\n",
    "counter=1\n",
    "while guess !=jackpot:\n",
    "    if guess < jackpot:\n",
    "        print('wrong! Guess higher')\n",
    "    else:\n",
    "        print('wrong! guess lower')\n",
    "    guess = int(input('guesss karo'))\n",
    "    counter+=1\n",
    "    \n",
    "else:\n",
    "    print('correct guess')\n",
    "    print('attempts',counter)"
   ]
  },
  {
   "cell_type": "markdown",
   "id": "78d42f93",
   "metadata": {},
   "source": [
    "# For Loop Demo"
   ]
  },
  {
   "cell_type": "code",
   "execution_count": 3,
   "id": "bad241c1",
   "metadata": {},
   "outputs": [
    {
     "name": "stdout",
     "output_type": "stream",
     "text": [
      "2\n",
      "4\n",
      "6\n",
      "8\n",
      "10\n",
      "12\n",
      "14\n",
      "16\n",
      "18\n",
      "20\n"
     ]
    }
   ],
   "source": [
    "for i in range(2,21,2): #range function is used here\n",
    "    print(i)"
   ]
  },
  {
   "cell_type": "code",
   "execution_count": 4,
   "id": "14231140",
   "metadata": {},
   "outputs": [
    {
     "name": "stdout",
     "output_type": "stream",
     "text": [
      "10\n",
      "9\n",
      "8\n",
      "7\n",
      "6\n",
      "5\n",
      "4\n",
      "3\n",
      "2\n",
      "1\n"
     ]
    }
   ],
   "source": [
    "for i in range(10,0,-1): #range function is used here\n",
    "    print(i)"
   ]
  },
  {
   "cell_type": "code",
   "execution_count": 1,
   "id": "0f694626",
   "metadata": {},
   "outputs": [
    {
     "name": "stdout",
     "output_type": "stream",
     "text": [
      "10 10000\n",
      "9 9090.90909090909\n",
      "8 8264.462809917353\n",
      "7 7513.148009015775\n",
      "6 6830.134553650703\n",
      "5 6209.213230591548\n",
      "4 5644.739300537771\n",
      "3 5131.5811823070635\n",
      "2 4665.07380209733\n",
      "1 4240.976183724845\n"
     ]
    }
   ],
   "source": [
    "#for loop example\n",
    "curr_pop = 10000\n",
    "for i in range(10,0,-1):\n",
    "    print(i,curr_pop)\n",
    "    curr_pop = curr_pop/1.1\n",
    "    "
   ]
  },
  {
   "cell_type": "markdown",
   "id": "09e3b9f2",
   "metadata": {},
   "source": [
    "# Loop Control Statement"
   ]
  },
  {
   "cell_type": "code",
   "execution_count": 4,
   "id": "3e818afd",
   "metadata": {},
   "outputs": [
    {
     "name": "stdout",
     "output_type": "stream",
     "text": [
      "enter n1\n",
      "1.0\n"
     ]
    }
   ],
   "source": [
    "#Break\n",
    "#continue\n",
    "#pass\n",
    "\n",
    "n = int(input('enter n'))\n",
    "result=0\n",
    "fact=1\n",
    "for i in range(1,n+1):\n",
    "    fact = fact*i\n",
    "    result = result+i/fact \n",
    "print(result)"
   ]
  },
  {
   "cell_type": "code",
   "execution_count": null,
   "id": "0421fe39",
   "metadata": {},
   "outputs": [],
   "source": []
  }
 ],
 "metadata": {
  "kernelspec": {
   "display_name": "Python 3 (ipykernel)",
   "language": "python",
   "name": "python3"
  },
  "language_info": {
   "codemirror_mode": {
    "name": "ipython",
    "version": 3
   },
   "file_extension": ".py",
   "mimetype": "text/x-python",
   "name": "python",
   "nbconvert_exporter": "python",
   "pygments_lexer": "ipython3",
   "version": "3.10.9"
  }
 },
 "nbformat": 4,
 "nbformat_minor": 5
}
